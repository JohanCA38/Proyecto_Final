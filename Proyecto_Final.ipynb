{
 "cells": [
  {
   "cell_type": "code",
   "execution_count": 1,
   "id": "6f979b2c",
   "metadata": {},
   "outputs": [],
   "source": [
    "import pandas as pd\n",
    "import matplotlib.pyplot as plt "
   ]
  },
  {
   "cell_type": "markdown",
   "id": "4629ac1b",
   "metadata": {},
   "source": [
    "## ALGORITMO KNN"
   ]
  },
  {
   "cell_type": "markdown",
   "id": "d80d163f",
   "metadata": {},
   "source": [
    "$d(\\mathbf{p}, \\mathbf{q}) = \\sqrt{\\sum_{i=1}^{n}(p_i - q_i)^2}$"
   ]
  },
  {
   "cell_type": "code",
   "execution_count": 2,
   "id": "6155fbd7",
   "metadata": {},
   "outputs": [],
   "source": [
    "def distancia_euclidiana(puntoA, puntoB):#Definimos la funcion con sus parametros.\n",
    "    \"\"\"\n",
    "    Calcula la distancia euclidiana entre dos puntos en un espacio de n dimensiones\n",
    "\n",
    "    Args:\n",
    "        -puntoA lista o tupla: Coordenadas del primer punto.\n",
    "        -puntoB (lista o tupla): Coordenadas del segundo punto.\n",
    "\n",
    "    Returns:\n",
    "        Distancia euclidiana entre los puntos.(flotante)\n",
    "    \"\"\"\n",
    "    if len(puntoA) != len(puntoB):#Revisamos que los puntos proporcionados tengan la misma dimension.\n",
    "        raise ValueError(\"Los puntos deben tener la misma dimension\")\n",
    "\n",
    "    distancia = 0 #Creamos una variale\n",
    "    for i in range(len(puntoA)):#Iteramos en los elementos para el puntoA\n",
    "        distancia += ((puntoA[i] - puntoB[i]) ** 2)#Actualizamos la variable distancia calculando la suma de los cuadrados de la diferencia entre los puntos.\n",
    "\n",
    "    distancia = distancia ** 0.5#Actualizamos la variable distancia sacando la raiz cuadrada.\n",
    "    return distancia #Imprimimos el valor de la distancia"
   ]
  },
  {
   "cell_type": "code",
   "execution_count": 3,
   "id": "26c9ef87",
   "metadata": {},
   "outputs": [
    {
     "name": "stdout",
     "output_type": "stream",
     "text": [
      "3.8078865529319543\n"
     ]
    }
   ],
   "source": [
    "#Ejemplo de aplicacion para nuestra funcion distancia_euclidiana\n",
    "A=[3.3,5.4]\n",
    "B=[1.4,2.1]\n",
    "D1=distancia_euclidiana(A, B)\n",
    "print(D1)"
   ]
  },
  {
   "cell_type": "code",
   "execution_count": 4,
   "id": "06c63ccb",
   "metadata": {},
   "outputs": [],
   "source": [
    "def Algoritmo_KNN(Base_de_datos, Prediccion, Num_puntos):#Definimos nuestra funcion con sus parametros.\n",
    "    \"\"\"\n",
    "    Implementa el algoritmo vecinos mas cercanos (KNN) para clasificar datos en función de una base de datos.\n",
    "\n",
    "    Args:\n",
    "    -Base_de_datos (lista): Contiene lo que representaria las muestras de entrenamiento,contiene los datos y la etiqueta de clasificacion para los mismos.\n",
    "    -Prediccion (lista o tupla): Datos de la predicción a clasificar.\n",
    "    -Num_puntos (Entero): Número de vecinos más cercanos para hacer la clasificación.\n",
    "\n",
    "    Returns:\n",
    "    Clasificacion: La etiqueta para los datos segun la Base_de_datos.\n",
    "    \"\"\"\n",
    "    puntos = []  # Creamos una lista vacia \n",
    "    for i in range(len(Base_de_datos)):# Iteramos sobre la Base_de_datos.\n",
    "        distancia = distancia_euclidiana(Prediccion, Base_de_datos[i][:-1])  # Calculamos la distancia entre los datos de nuestra prediccion y los datos actuales en nuestra base de datos.\n",
    "        if distancia is not None:  # Verificamos que la distancia no sea del tipo None\n",
    "            puntos.append((Base_de_datos[i], distancia))  # Actualizamos nuestra lista agregando una tupla que contiene la muestra de la Base_de_datos[i] y su distancia a la lista de prediccion.\n",
    "    \n",
    "    puntos.sort(key=lambda x: x[1]) # Ordenamos la lista puntos en función del segundo elemento de cada tupla, es decir, la distancia.\n",
    "\n",
    "    if len(puntos) > 0:  # Verificamos si hay al menos un punto en la lista\n",
    "        Etiquetas = [punto[0][-1] for punto in puntos[:Num_puntos]] # Creamos una lista que contiene las etiquetas de clasificación segun el Num_puntos proporcionado.\n",
    "        Clasificacion = max(set(Etiquetas), key=Etiquetas.count) #Contamos cuál es la etiqueta de clasificacion que se repite más.\n",
    "    else:\n",
    "        Etiquetas = [dato[-1] for dato in Base_de_datos]  # Creamos una lista que contiene  las etiquetas de clasificación de toda la base de datos\n",
    "        Clasificacion = max(set(Etiquetas), key=Etiquetas.count)   #Contamos cuál es la etiqueta de clasificacion que se repite más en la base de datos.\n",
    "\n",
    "    return Clasificacion  # Imprimimos nuestra clasificacion."
   ]
  },
  {
   "cell_type": "code",
   "execution_count": 5,
   "id": "8eacc72f",
   "metadata": {},
   "outputs": [
    {
     "name": "stdout",
     "output_type": "stream",
     "text": [
      "Para los datos ingresados la clasificación es: Mexicana\n"
     ]
    }
   ],
   "source": [
    "#Ejemplo de aplicacion para nuestra funcion Algoritmo_KNN\n",
    "Base_de_datos =[\n",
    "    [1.68,75,'Mexicana'],[1.70,77,'Mexicana'],[1.77,85,'Estadounidense'],[1.80,88,'Estadounidense'],[1.85,86,'Holandes'],\n",
    "    [1.87,88,'Holandes'],[1.63,68,'Guatemalteca'],[1.66,69,'Guatemalteca']\n",
    "    ]\n",
    "Prediccion=[1.70,75]\n",
    "Num_puntos=3\n",
    "Nacionalidad=Algoritmo_KNN(Base_de_datos, Prediccion, Num_puntos)\n",
    "print('Para los datos ingresados la clasificación es:', Nacionalidad)\n",
    "\n",
    "\n",
    "#Base de datos hecha con base en: https://www.datosmundial.com/estatura-promedio.php"
   ]
  },
  {
   "cell_type": "markdown",
   "id": "91680d74",
   "metadata": {},
   "source": [
    "## REGRESION LOGISTICA\n",
    "La regresión logística es un modelo estadístico que se utiliza para determinar la probabilidad de que ocurra un evento. Muestra la relación entre características y luego calcula la probabilidad de un resultado determinado.\n",
    "La regresión logística se utiliza en Machine Learning (ML) para ayudar a crear predicciones precisas. Es similar a la regresión lineal, excepto que en lugar de un resultado gráfico, la variable objetivo es binaria; el valor es 1 o 0.\n",
    "Existen dos tipos de variables medibles, las variables o características explicativas (elemento que se mide) y la variable de respuesta o variable binaria objetivo, que corresponde al resultado.\n",
    "\n",
    "Existen tres tipos básicos de regresión logística:\n",
    "\n",
    "1-Regresión logística binaria: aquí solo existen dos resultados posibles para la respuesta categórica. \n",
    "\n",
    "2-Regresión logística multinomial: aquí es donde las variables de respuesta pueden incluir tres o más variables, que no estarán en ningún orden. \n",
    "\n",
    "3-Regresión logística ordinal: al igual que la regresión multinomial, puede haber tres o más variables. Sin embargo, existe un orden en el que siguen las medidas. \n",
    "\n",
    "\n",
    "\n",
    "https://www.tibco.com/es/reference-center/what-is-logistic-regression\n"
   ]
  },
  {
   "cell_type": "markdown",
   "id": "d4e2dc9f",
   "metadata": {},
   "source": [
    "Para proposito de este proyecto, se trabjara con la regresion logistica binaria.\n",
    "\n",
    "Para esta tenemos que definir una funcion conocido como funcion sigmoide, la cual se encarga de transformar la probabalidad de un evento en terminos binarios (0 y 1), la formula para esta funcion es la siguiente:"
   ]
  },
  {
   "attachments": {
    "image.png": {
     "image/png": "[encoded data removed]"
    }
   },
   "cell_type": "markdown",
   "id": "f8774630",
   "metadata": {},
   "source": [
    "![image.png](attachment:image.png)\n"
   ]
  },
  {
   "cell_type": "markdown",
   "id": "13b25b99",
   "metadata": {},
   "source": [
    "Una formula simplificada de esta funcion es :\n",
    "\n",
    "$P(Z) = \\frac{1}{1 + e^{-z}}$\n",
    "\n",
    "Donde z representa la combinacion lineal entre los coeficientes de regresion logistica y las variables independientes mas un error genereado por el modelo de entrenamiento que en este caso seria la base de datos."
   ]
  },
  {
   "cell_type": "code",
   "execution_count": 6,
   "id": "d2703113",
   "metadata": {},
   "outputs": [],
   "source": [
    "e=2.71828\n",
    "def sigmoide(z):\n",
    "    p= 1/(1+e**(-z))\n",
    "    return p"
   ]
  },
  {
   "cell_type": "code",
   "execution_count": 8,
   "id": "436d9d41",
   "metadata": {},
   "outputs": [],
   "source": [
    "def regresion_logistica(coeficientes, variables_independientes, sesgo):\n",
    "    '''\n",
    "    Hace una prediccion usando la regresion logistica\n",
    "    \n",
    "    Args:\n",
    "        coeficientes (lista): Coeficientes de la regresión logística.\n",
    "        variables_independientes (lista): Valores de las variables independientes para la prediccion.\n",
    "        sesgo (flotante): Erro asociado.\n",
    "\n",
    "    Returns:\n",
    "    Clasificacion : \"Etiqueta 1\" o \"Etiqueta 2\".\n",
    "    '''\n",
    "    if len(coeficientes) != len(variables_independientes):# Calcular la combinación lineal entre coeficientes y las variables independientes\n",
    "        raise ValueError(\"No tienen la misma dimension.\")\n",
    "\n",
    "    combinacion_lineal = sesgo#Asumimos que el sesgo ya esta inmerso en la combinacion lineal\n",
    "    for i in range(len(coeficientes)):\n",
    "        combinacion_lineal += coeficientes[i] * variables_independientes[i]## Calculamos la combinación lineal\n",
    "\n",
    "\n",
    "    probabilidad = sigmoide(combinacion_lineal)#Calculamos la probailidad usando la funcion sigmoide\n",
    "\n",
    "    \n",
    "    if probabilidad >= 0.5:#Fijamos los umbrales para hacer la clasificacion\n",
    "        return \"Etiqueta 1\"\n",
    "    else:\n",
    "        return \"Etiqueta 2\""
   ]
  },
  {
   "cell_type": "code",
   "execution_count": 9,
   "id": "4a322222",
   "metadata": {},
   "outputs": [
    {
     "data": {
      "text/plain": [
       "'Etiqueta 2'"
      ]
     },
     "execution_count": 9,
     "metadata": {},
     "output_type": "execute_result"
    }
   ],
   "source": [
    "# Ejemplo de uso\n",
    "coeficientes = [-0.5, -2.7, -0.5]\n",
    "variables_independientes = [60, 1, 120]  # Edad, Sexo (1=mujer), Presión arterial.\n",
    "sesgo = -0.8\n",
    "regresion_logistica(coeficientes, variables_independientes, sesgo)"
   ]
  },
  {
   "cell_type": "markdown",
   "id": "58869dd6",
   "metadata": {},
   "source": [
    "## PRUEBA DE LOS ALGORITMOS PARA LA BASE DE DATOS\n"
   ]
  },
  {
   "cell_type": "code",
   "execution_count": 10,
   "id": "d9252ff0",
   "metadata": {},
   "outputs": [
    {
     "data": {
      "text/html": [
       "<div>\n",
       "<style scoped>\n",
       "    .dataframe tbody tr th:only-of-type {\n",
       "        vertical-align: middle;\n",
       "    }\n",
       "\n",
       "    .dataframe tbody tr th {\n",
       "        vertical-align: top;\n",
       "    }\n",
       "\n",
       "    .dataframe thead th {\n",
       "        text-align: right;\n",
       "    }\n",
       "</style>\n",
       "<table border=\"1\" class=\"dataframe\">\n",
       "  <thead>\n",
       "    <tr style=\"text-align: right;\">\n",
       "      <th></th>\n",
       "      <th>Presion arterial</th>\n",
       "      <th>Tabaco en kg</th>\n",
       "      <th>VLDL en mg/dl</th>\n",
       "      <th>Adipositos</th>\n",
       "      <th>Obesidad</th>\n",
       "      <th>Edad</th>\n",
       "      <th>Diagnostico</th>\n",
       "    </tr>\n",
       "  </thead>\n",
       "  <tbody>\n",
       "    <tr>\n",
       "      <th>0</th>\n",
       "      <td>160</td>\n",
       "      <td>12.00</td>\n",
       "      <td>5.73</td>\n",
       "      <td>23.11</td>\n",
       "      <td>25.30</td>\n",
       "      <td>52</td>\n",
       "      <td>0</td>\n",
       "    </tr>\n",
       "    <tr>\n",
       "      <th>1</th>\n",
       "      <td>144</td>\n",
       "      <td>0.01</td>\n",
       "      <td>4.41</td>\n",
       "      <td>28.61</td>\n",
       "      <td>28.87</td>\n",
       "      <td>63</td>\n",
       "      <td>1</td>\n",
       "    </tr>\n",
       "    <tr>\n",
       "      <th>2</th>\n",
       "      <td>118</td>\n",
       "      <td>0.08</td>\n",
       "      <td>3.48</td>\n",
       "      <td>32.28</td>\n",
       "      <td>29.14</td>\n",
       "      <td>46</td>\n",
       "      <td>0</td>\n",
       "    </tr>\n",
       "    <tr>\n",
       "      <th>3</th>\n",
       "      <td>170</td>\n",
       "      <td>7.50</td>\n",
       "      <td>6.41</td>\n",
       "      <td>38.03</td>\n",
       "      <td>31.99</td>\n",
       "      <td>58</td>\n",
       "      <td>1</td>\n",
       "    </tr>\n",
       "    <tr>\n",
       "      <th>4</th>\n",
       "      <td>134</td>\n",
       "      <td>13.60</td>\n",
       "      <td>3.50</td>\n",
       "      <td>27.78</td>\n",
       "      <td>25.99</td>\n",
       "      <td>49</td>\n",
       "      <td>1</td>\n",
       "    </tr>\n",
       "    <tr>\n",
       "      <th>5</th>\n",
       "      <td>132</td>\n",
       "      <td>6.20</td>\n",
       "      <td>6.47</td>\n",
       "      <td>36.21</td>\n",
       "      <td>30.77</td>\n",
       "      <td>45</td>\n",
       "      <td>1</td>\n",
       "    </tr>\n",
       "    <tr>\n",
       "      <th>6</th>\n",
       "      <td>142</td>\n",
       "      <td>4.05</td>\n",
       "      <td>3.38</td>\n",
       "      <td>16.20</td>\n",
       "      <td>20.81</td>\n",
       "      <td>38</td>\n",
       "      <td>1</td>\n",
       "    </tr>\n",
       "    <tr>\n",
       "      <th>7</th>\n",
       "      <td>114</td>\n",
       "      <td>4.08</td>\n",
       "      <td>4.59</td>\n",
       "      <td>14.60</td>\n",
       "      <td>23.11</td>\n",
       "      <td>58</td>\n",
       "      <td>1</td>\n",
       "    </tr>\n",
       "    <tr>\n",
       "      <th>8</th>\n",
       "      <td>114</td>\n",
       "      <td>0.00</td>\n",
       "      <td>3.83</td>\n",
       "      <td>19.40</td>\n",
       "      <td>24.86</td>\n",
       "      <td>29</td>\n",
       "      <td>1</td>\n",
       "    </tr>\n",
       "    <tr>\n",
       "      <th>9</th>\n",
       "      <td>132</td>\n",
       "      <td>0.00</td>\n",
       "      <td>5.80</td>\n",
       "      <td>30.96</td>\n",
       "      <td>30.11</td>\n",
       "      <td>53</td>\n",
       "      <td>1</td>\n",
       "    </tr>\n",
       "    <tr>\n",
       "      <th>10</th>\n",
       "      <td>206</td>\n",
       "      <td>6.00</td>\n",
       "      <td>2.95</td>\n",
       "      <td>32.27</td>\n",
       "      <td>26.81</td>\n",
       "      <td>60</td>\n",
       "      <td>1</td>\n",
       "    </tr>\n",
       "    <tr>\n",
       "      <th>11</th>\n",
       "      <td>134</td>\n",
       "      <td>14.10</td>\n",
       "      <td>4.44</td>\n",
       "      <td>22.39</td>\n",
       "      <td>23.09</td>\n",
       "      <td>40</td>\n",
       "      <td>1</td>\n",
       "    </tr>\n",
       "    <tr>\n",
       "      <th>12</th>\n",
       "      <td>118</td>\n",
       "      <td>0.00</td>\n",
       "      <td>1.88</td>\n",
       "      <td>10.05</td>\n",
       "      <td>21.57</td>\n",
       "      <td>17</td>\n",
       "      <td>0</td>\n",
       "    </tr>\n",
       "    <tr>\n",
       "      <th>13</th>\n",
       "      <td>132</td>\n",
       "      <td>0.00</td>\n",
       "      <td>1.87</td>\n",
       "      <td>17.21</td>\n",
       "      <td>23.63</td>\n",
       "      <td>15</td>\n",
       "      <td>0</td>\n",
       "    </tr>\n",
       "    <tr>\n",
       "      <th>14</th>\n",
       "      <td>112</td>\n",
       "      <td>9.65</td>\n",
       "      <td>2.29</td>\n",
       "      <td>17.20</td>\n",
       "      <td>23.53</td>\n",
       "      <td>53</td>\n",
       "      <td>0</td>\n",
       "    </tr>\n",
       "    <tr>\n",
       "      <th>15</th>\n",
       "      <td>117</td>\n",
       "      <td>1.53</td>\n",
       "      <td>2.44</td>\n",
       "      <td>28.95</td>\n",
       "      <td>25.89</td>\n",
       "      <td>46</td>\n",
       "      <td>0</td>\n",
       "    </tr>\n",
       "    <tr>\n",
       "      <th>16</th>\n",
       "      <td>120</td>\n",
       "      <td>7.50</td>\n",
       "      <td>15.33</td>\n",
       "      <td>22.00</td>\n",
       "      <td>25.31</td>\n",
       "      <td>49</td>\n",
       "      <td>0</td>\n",
       "    </tr>\n",
       "    <tr>\n",
       "      <th>17</th>\n",
       "      <td>146</td>\n",
       "      <td>10.50</td>\n",
       "      <td>8.29</td>\n",
       "      <td>35.36</td>\n",
       "      <td>32.73</td>\n",
       "      <td>53</td>\n",
       "      <td>1</td>\n",
       "    </tr>\n",
       "    <tr>\n",
       "      <th>18</th>\n",
       "      <td>158</td>\n",
       "      <td>2.60</td>\n",
       "      <td>7.46</td>\n",
       "      <td>34.07</td>\n",
       "      <td>29.30</td>\n",
       "      <td>62</td>\n",
       "      <td>1</td>\n",
       "    </tr>\n",
       "    <tr>\n",
       "      <th>19</th>\n",
       "      <td>124</td>\n",
       "      <td>14.00</td>\n",
       "      <td>6.23</td>\n",
       "      <td>35.96</td>\n",
       "      <td>30.09</td>\n",
       "      <td>59</td>\n",
       "      <td>1</td>\n",
       "    </tr>\n",
       "    <tr>\n",
       "      <th>20</th>\n",
       "      <td>106</td>\n",
       "      <td>1.61</td>\n",
       "      <td>1.74</td>\n",
       "      <td>12.32</td>\n",
       "      <td>20.92</td>\n",
       "      <td>20</td>\n",
       "      <td>1</td>\n",
       "    </tr>\n",
       "    <tr>\n",
       "      <th>21</th>\n",
       "      <td>132</td>\n",
       "      <td>7.90</td>\n",
       "      <td>2.85</td>\n",
       "      <td>26.50</td>\n",
       "      <td>26.16</td>\n",
       "      <td>44</td>\n",
       "      <td>0</td>\n",
       "    </tr>\n",
       "    <tr>\n",
       "      <th>22</th>\n",
       "      <td>150</td>\n",
       "      <td>0.30</td>\n",
       "      <td>6.38</td>\n",
       "      <td>33.99</td>\n",
       "      <td>24.64</td>\n",
       "      <td>50</td>\n",
       "      <td>0</td>\n",
       "    </tr>\n",
       "    <tr>\n",
       "      <th>23</th>\n",
       "      <td>138</td>\n",
       "      <td>0.60</td>\n",
       "      <td>3.81</td>\n",
       "      <td>28.66</td>\n",
       "      <td>28.70</td>\n",
       "      <td>58</td>\n",
       "      <td>0</td>\n",
       "    </tr>\n",
       "    <tr>\n",
       "      <th>24</th>\n",
       "      <td>142</td>\n",
       "      <td>18.20</td>\n",
       "      <td>4.34</td>\n",
       "      <td>24.38</td>\n",
       "      <td>26.19</td>\n",
       "      <td>50</td>\n",
       "      <td>0</td>\n",
       "    </tr>\n",
       "    <tr>\n",
       "      <th>25</th>\n",
       "      <td>124</td>\n",
       "      <td>4.00</td>\n",
       "      <td>12.42</td>\n",
       "      <td>31.29</td>\n",
       "      <td>23.23</td>\n",
       "      <td>42</td>\n",
       "      <td>1</td>\n",
       "    </tr>\n",
       "    <tr>\n",
       "      <th>26</th>\n",
       "      <td>118</td>\n",
       "      <td>6.00</td>\n",
       "      <td>9.65</td>\n",
       "      <td>33.91</td>\n",
       "      <td>38.80</td>\n",
       "      <td>48</td>\n",
       "      <td>0</td>\n",
       "    </tr>\n",
       "    <tr>\n",
       "      <th>27</th>\n",
       "      <td>145</td>\n",
       "      <td>9.10</td>\n",
       "      <td>5.24</td>\n",
       "      <td>27.55</td>\n",
       "      <td>20.96</td>\n",
       "      <td>61</td>\n",
       "      <td>1</td>\n",
       "    </tr>\n",
       "    <tr>\n",
       "      <th>28</th>\n",
       "      <td>144</td>\n",
       "      <td>4.09</td>\n",
       "      <td>5.55</td>\n",
       "      <td>31.40</td>\n",
       "      <td>29.43</td>\n",
       "      <td>56</td>\n",
       "      <td>0</td>\n",
       "    </tr>\n",
       "    <tr>\n",
       "      <th>29</th>\n",
       "      <td>146</td>\n",
       "      <td>0.00</td>\n",
       "      <td>6.62</td>\n",
       "      <td>25.69</td>\n",
       "      <td>28.07</td>\n",
       "      <td>63</td>\n",
       "      <td>1</td>\n",
       "    </tr>\n",
       "  </tbody>\n",
       "</table>\n",
       "</div>"
      ],
      "text/plain": [
       "    Presion arterial  Tabaco en kg  VLDL en mg/dl  Adipositos  Obesidad  Edad  \\\n",
       "0                160         12.00           5.73       23.11     25.30    52   \n",
       "1                144          0.01           4.41       28.61     28.87    63   \n",
       "2                118          0.08           3.48       32.28     29.14    46   \n",
       "3                170          7.50           6.41       38.03     31.99    58   \n",
       "4                134         13.60           3.50       27.78     25.99    49   \n",
       "5                132          6.20           6.47       36.21     30.77    45   \n",
       "6                142          4.05           3.38       16.20     20.81    38   \n",
       "7                114          4.08           4.59       14.60     23.11    58   \n",
       "8                114          0.00           3.83       19.40     24.86    29   \n",
       "9                132          0.00           5.80       30.96     30.11    53   \n",
       "10               206          6.00           2.95       32.27     26.81    60   \n",
       "11               134         14.10           4.44       22.39     23.09    40   \n",
       "12               118          0.00           1.88       10.05     21.57    17   \n",
       "13               132          0.00           1.87       17.21     23.63    15   \n",
       "14               112          9.65           2.29       17.20     23.53    53   \n",
       "15               117          1.53           2.44       28.95     25.89    46   \n",
       "16               120          7.50          15.33       22.00     25.31    49   \n",
       "17               146         10.50           8.29       35.36     32.73    53   \n",
       "18               158          2.60           7.46       34.07     29.30    62   \n",
       "19               124         14.00           6.23       35.96     30.09    59   \n",
       "20               106          1.61           1.74       12.32     20.92    20   \n",
       "21               132          7.90           2.85       26.50     26.16    44   \n",
       "22               150          0.30           6.38       33.99     24.64    50   \n",
       "23               138          0.60           3.81       28.66     28.70    58   \n",
       "24               142         18.20           4.34       24.38     26.19    50   \n",
       "25               124          4.00          12.42       31.29     23.23    42   \n",
       "26               118          6.00           9.65       33.91     38.80    48   \n",
       "27               145          9.10           5.24       27.55     20.96    61   \n",
       "28               144          4.09           5.55       31.40     29.43    56   \n",
       "29               146          0.00           6.62       25.69     28.07    63   \n",
       "\n",
       "    Diagnostico  \n",
       "0             0  \n",
       "1             1  \n",
       "2             0  \n",
       "3             1  \n",
       "4             1  \n",
       "5             1  \n",
       "6             1  \n",
       "7             1  \n",
       "8             1  \n",
       "9             1  \n",
       "10            1  \n",
       "11            1  \n",
       "12            0  \n",
       "13            0  \n",
       "14            0  \n",
       "15            0  \n",
       "16            0  \n",
       "17            1  \n",
       "18            1  \n",
       "19            1  \n",
       "20            1  \n",
       "21            0  \n",
       "22            0  \n",
       "23            0  \n",
       "24            0  \n",
       "25            1  \n",
       "26            0  \n",
       "27            1  \n",
       "28            0  \n",
       "29            1  "
      ]
     },
     "execution_count": 10,
     "metadata": {},
     "output_type": "execute_result"
    }
   ],
   "source": [
    "datos =pd.read_csv('Riesgos_de_Enfermedades_Cardiacas.csv')\n",
    "datos.head(30)"
   ]
  },
  {
   "cell_type": "code",
   "execution_count": 11,
   "id": "4c387da7",
   "metadata": {},
   "outputs": [
    {
     "name": "stdout",
     "output_type": "stream",
     "text": [
      "0    238\n",
      "1    224\n",
      "Name: Diagnostico, dtype: int64\n"
     ]
    }
   ],
   "source": [
    "Objetivo=datos.Diagnostico.value_counts()\n",
    "print(Objetivo)"
   ]
  },
  {
   "cell_type": "code",
   "execution_count": 12,
   "id": "5e907d35",
   "metadata": {},
   "outputs": [
    {
     "data": {
      "image/png": "[encoded data removed]",
      "text/plain": [
       "<Figure size 640x480 with 1 Axes>"
      ]
     },
     "metadata": {},
     "output_type": "display_data"
    }
   ],
   "source": [
    "ax=Objetivo.plot.bar()\n",
    "plt.title(\"Diagnostico\")\n",
    "plt.show()"
   ]
  },
  {
   "cell_type": "markdown",
   "id": "05bf2cd8",
   "metadata": {},
   "source": [
    "Probemos nuestro Algoritmo_KNN para ello creemos nuestra base de datos, consideremos los primeros 30 datos de nuestro archivo csv."
   ]
  },
  {
   "cell_type": "code",
   "execution_count": 13,
   "id": "84ec4635",
   "metadata": {},
   "outputs": [],
   "source": [
    "Base_de_datos=[\n",
    "    [160,12,5.73,23.11,25.3,52,'Sano'],[144,0.01,4.41,28.61,28.87,63,'Enfermo'],[118,0.08,3.48,32.28,29.14,46,'Sano']\n",
    "    ,[170,7.5,6.41,38.03,31.99,58,'Enfermo'],[134,13.6,3.5,27.78,25.99,49,'Enfermo'],[132,6.2,6.47,36.21,30.77,45,'Enfermo']\n",
    "    ,[142,4.05,3.38,16.2,20.81,38,'Enfermo'],[114,4.08,4.59,14.6,23.11,58,'Enfermo'],[114,0,3.83,19.4,24.86,29,'Enfermo']\n",
    "    ,[132,0,5.8,30.96,30.11,53,'Enfermo'],[206,6,2.95,32.27,26.81,60,'Enfermo'],[134,14.1,4.44,22.39,23.09,40,'Enfermo']\n",
    "    ,[118,0,1.88,10.05,21.57,17,'Sano'],[132,0,1.87,17.21,23.63,15,'Sano'],[112,9.65,2.29,17.2,23.53,53,'Sano']\n",
    "    ,[117,1.53,2.44,28.95,25.89,46,'Sano'],[120,7.5,15.33,22,25.31,49,'Sano'],[146,10.5,8.29,35.36,32.73,53,'Enfermo']\n",
    "    ,[158,2.6,7.46,34.07,29.3,62,'Enfermo'],[124,14,6.23,35.96,30.09,59,'Enfermo'],[106,1.61,1.74,12.32,20.92,20,'Enfermo']\n",
    "    ,[132,7.9,2.85,26.5,26.16,44,'Sano'],[150,0.3,6.38,33.99,24.64,50,'Sano'],[138,0.6,3.81,28.66,28.7,58,'Sano']\n",
    "    ,[142,18.2,4.34,24.38,26.19,50,'Sano'],[124,4,12.42,31.29,23.23,42,'Enfermo'],[118,6,9.65,33.91,38.8,48,'Sano']\n",
    "    ,[145,9.1,5.24,27.55,20.96,61,'Enfermo'],[144,4.09,5.55,31.4,29.43,56,'Sano'],[146,0,6.62,25.69,28.07,63,'Enfermo']\n",
    "]"
   ]
  },
  {
   "cell_type": "code",
   "execution_count": 14,
   "id": "06489398",
   "metadata": {},
   "outputs": [
    {
     "name": "stdout",
     "output_type": "stream",
     "text": [
      "1    17\n",
      "0    13\n",
      "Name: Diagnostico, dtype: int64\n"
     ]
    },
    {
     "data": {
      "image/png": "[encoded data removed]",
      "text/plain": [
       "<Figure size 640x480 with 1 Axes>"
      ]
     },
     "metadata": {},
     "output_type": "display_data"
    }
   ],
   "source": [
    "#Veamos que si nuestra base de datos esta mas o menos equlibrada, esto es importante pues si esta muy desequilibrida la clasificacion tendera a encontrar mas puntos de una etiqueta.\n",
    "BD=datos.head(30)\n",
    "Objetivo2=BD.Diagnostico.value_counts()\n",
    "print(Objetivo2)\n",
    "ax=Objetivo2.plot.bar()\n",
    "plt.title(\"Diagnostico\")\n",
    "plt.show()"
   ]
  },
  {
   "cell_type": "code",
   "execution_count": 15,
   "id": "b58f65a7",
   "metadata": {},
   "outputs": [
    {
     "name": "stdout",
     "output_type": "stream",
     "text": [
      "Para los datos ingresados la clasificación es: Enfermo\n"
     ]
    }
   ],
   "source": [
    "#Como esta equilibrado procedemos a ejecutar nuestro algoritmo KNN\n",
    "Prediccion=[140,2,3.73,25.21,22.3,19]\n",
    "Num_puntos=10\n",
    "Estado=Algoritmo_KNN(Base_de_datos, Prediccion, Num_puntos)\n",
    "print('Para los datos ingresados la clasificación es:', Estado)"
   ]
  },
  {
   "cell_type": "markdown",
   "id": "67752e92",
   "metadata": {},
   "source": [
    "Antes de usar nuestro algoritmo de prediccion usando regresion logistica , primero debemos verificar si hay relacion entre nuestras variables, por nuestra base de datos al ser la variable dependiente de caracter binaria podemos calcular esta relacion usando el coeficiente de correlación de punto biserial el cual es una medida de asociación entre una variable continua y una variable binaria."
   ]
  },
  {
   "cell_type": "markdown",
   "id": "4d813b59",
   "metadata": {},
   "source": [
    "## Coeficiente de correlación de punto biserial"
   ]
  },
  {
   "cell_type": "markdown",
   "id": "499dfeaa",
   "metadata": {},
   "source": [
    "El coeficiente de correlación de punto biserial es una medida de asociación entre una variable continua y una variable binaria (dicotómica). Se calcula utilizando la siguiente fórmula:\n",
    "\n",
    "$rpbis =\\frac{M_1 - M_0}{Sn}\\sqrt{\\frac{n_1 n_0}{n^2}}$\n",
    "\n",
    "M1\n",
    "  = Media del puntaje global del instrumento del grupo que contestó de manera positiva a la variable binaria (alta, uno).\n",
    "  \n",
    "M0\n",
    " = Media del puntaje global del instrumento del grupo que contestó de manera negativa a la variable binaria (baja, cero).\n",
    "\n",
    "Sn\n",
    " = Desviación estándar del instrumento.\n",
    "\n",
    "n\n",
    " = Tamaño de la población que contestó el instrumento.\n",
    "\n",
    "n1\n",
    " = Tamaño del grupo que contestó de manera positiva a la variable binaria.\n",
    "\n",
    "n0\n",
    " = Tamaño del grupo que contestó de manera negativa a la variable binaria.\n",
    " \n",
    " https://rpubs.com/jboscomendoza/correlacion_biserial_puntual_r\n",
    " \n",
    " https://aws.amazon.com/es/what-is/logistic-regression/"
   ]
  },
  {
   "cell_type": "code",
   "execution_count": 16,
   "id": "7f4672d9",
   "metadata": {},
   "outputs": [],
   "source": [
    "def Correlacion(x, y):\n",
    "    '''\n",
    "    Calcula el coeficiente de correlación biseral\n",
    "    Args:\n",
    "        x (lista): Variables independientes.\n",
    "        y (lista): Variables objetivos (caracter binario).\n",
    "\n",
    "    Returns:\n",
    "        float: Coeficiente de correlación.\n",
    "    '''\n",
    "    n = len(x)#Contamos los elementos de x\n",
    "    n0 = sum(y)#Sumamos todos los valores de y\n",
    "    n1 = n - n0#Calculamos el  número de elementos diferentes de cero en y\n",
    "    M0 = sum([x[i] for i in range(n) if y[i] == 0]) / n0# Calculamos la media de los elementos iguales a cero\n",
    "    M1 = sum([x[i] for i in range(n) if y[i] == 1]) / n1# Calculamos la media de los elementos iguales a unp\n",
    "\n",
    "    Mediax = sum(x) / n#Calculamos el promedio de x\n",
    "    suma_cuadrados = sum((xi - Mediax) ** 2 for xi in x)\n",
    "    Sn= (suma_cuadrados / n) ** 0.5#Calculamos desviacion estandar para poblacion\n",
    "    R = ((M1 - M0) / Sn) * ((n1 * n0) / n**2)**0.5#Calculamos coeficiente\n",
    "\n",
    "    return R #Imprimimos el coeficiente\n"
   ]
  },
  {
   "cell_type": "markdown",
   "id": "0bb415c0",
   "metadata": {},
   "source": [
    "Calculemos nuestros coeficientes de correlacion. "
   ]
  },
  {
   "cell_type": "code",
   "execution_count": 17,
   "id": "1bf80ae0",
   "metadata": {},
   "outputs": [],
   "source": [
    "x1= datos['Presion arterial'].tolist()\n",
    "y1=datos['Diagnostico'].tolist()"
   ]
  },
  {
   "cell_type": "code",
   "execution_count": 18,
   "id": "f8745135",
   "metadata": {},
   "outputs": [
    {
     "data": {
      "text/plain": [
       "-0.004608898615786819"
      ]
     },
     "execution_count": 18,
     "metadata": {},
     "output_type": "execute_result"
    }
   ],
   "source": [
    "Correlacion(x1, y1)"
   ]
  },
  {
   "cell_type": "code",
   "execution_count": 19,
   "id": "1101afa9",
   "metadata": {},
   "outputs": [],
   "source": [
    "x2=datos['Tabaco en kg'].tolist()\n",
    "y2=datos['Diagnostico'].tolist()"
   ]
  },
  {
   "cell_type": "code",
   "execution_count": 20,
   "id": "280bd225",
   "metadata": {},
   "outputs": [
    {
     "data": {
      "text/plain": [
       "0.26170262866398275"
      ]
     },
     "execution_count": 20,
     "metadata": {},
     "output_type": "execute_result"
    }
   ],
   "source": [
    "Correlacion(x2, y2)"
   ]
  },
  {
   "cell_type": "code",
   "execution_count": 21,
   "id": "b26c8479",
   "metadata": {},
   "outputs": [],
   "source": [
    "x3=datos['VLDL en mg/dl'].tolist()\n",
    "y3=datos['Diagnostico'].tolist()"
   ]
  },
  {
   "cell_type": "code",
   "execution_count": 22,
   "id": "cf83c0a4",
   "metadata": {},
   "outputs": [
    {
     "data": {
      "text/plain": [
       "0.10313722439122291"
      ]
     },
     "execution_count": 22,
     "metadata": {},
     "output_type": "execute_result"
    }
   ],
   "source": [
    "Correlacion(x3, y3)"
   ]
  },
  {
   "cell_type": "code",
   "execution_count": 23,
   "id": "8e4ec159",
   "metadata": {},
   "outputs": [],
   "source": [
    "x4=datos['Adipositos'].tolist()\n",
    "y4=datos['Diagnostico'].tolist()"
   ]
  },
  {
   "cell_type": "code",
   "execution_count": 24,
   "id": "d66b7f94",
   "metadata": {},
   "outputs": [
    {
     "data": {
      "text/plain": [
       "0.16068906657876383"
      ]
     },
     "execution_count": 24,
     "metadata": {},
     "output_type": "execute_result"
    }
   ],
   "source": [
    "Correlacion(x4, y4)"
   ]
  },
  {
   "cell_type": "code",
   "execution_count": 25,
   "id": "a2dfa4db",
   "metadata": {},
   "outputs": [],
   "source": [
    "x5=datos['Obesidad'].tolist()\n",
    "y5=datos['Diagnostico'].tolist()"
   ]
  },
  {
   "cell_type": "code",
   "execution_count": 26,
   "id": "6c6a2dde",
   "metadata": {},
   "outputs": [
    {
     "data": {
      "text/plain": [
       "-0.18577661279979546"
      ]
     },
     "execution_count": 26,
     "metadata": {},
     "output_type": "execute_result"
    }
   ],
   "source": [
    "Correlacion(x5, y5)"
   ]
  },
  {
   "cell_type": "code",
   "execution_count": 27,
   "id": "b84796d6",
   "metadata": {},
   "outputs": [],
   "source": [
    "x6=datos['Edad'].tolist()\n",
    "y6=datos['Diagnostico'].tolist()"
   ]
  },
  {
   "cell_type": "code",
   "execution_count": 28,
   "id": "888e2ec3",
   "metadata": {},
   "outputs": [
    {
     "data": {
      "text/plain": [
       "0.2640738081521256"
      ]
     },
     "execution_count": 28,
     "metadata": {},
     "output_type": "execute_result"
    }
   ],
   "source": [
    "Correlacion(x6, y6)"
   ]
  },
  {
   "attachments": {
    "image.png": {
     "image/png": "[encoded data removed]"
    }
   },
   "cell_type": "markdown",
   "id": "ae772461",
   "metadata": {},
   "source": [
    "![image.png](attachment:image.png)"
   ]
  },
  {
   "cell_type": "markdown",
   "id": "89275f7e",
   "metadata": {},
   "source": [
    "Notemos que las variables que indican un mejor coeficiente de relacion son el tabaco, los adipositos y la edad por lo consideraremos estas."
   ]
  },
  {
   "cell_type": "markdown",
   "id": "f073784c",
   "metadata": {},
   "source": [
    "Para poder calcular los coeficientes se requiere de un algoritmo que es de caracter mas avanzado, pues requiere de mayores conocimientos en el machine learning, por ello usaremos la paqueteria numpy que nos permitira calcularlos y aplicarlos a nuestro algoritmo, consideraremos los primero 30 datos de nuestra base de datos."
   ]
  },
  {
   "cell_type": "code",
   "execution_count": 29,
   "id": "905fe30d",
   "metadata": {},
   "outputs": [
    {
     "name": "stdout",
     "output_type": "stream",
     "text": [
      "Coeficientes: [ 0.12774706  0.04951558 -0.04316447]\n",
      "Sesgo: 0.12774706497128158\n"
     ]
    }
   ],
   "source": [
    "import numpy as np\n",
    "\n",
    "def sigmoid(x):\n",
    "    return 1 / (1 + np.exp(-x))\n",
    "def cost_function(X, y, theta):\n",
    "    m = len(y)\n",
    "    h = sigmoid(np.dot(X, theta))\n",
    "    cost = -(1/m) * np.sum(y * np.log(h) + (1-y) * np.log(1-h))\n",
    "    return cost\n",
    "\n",
    "def gradient_descent(X, y, theta, alpha, num_iterations):\n",
    "    m = len(y)\n",
    "    cost_history = []\n",
    "\n",
    "    for i in range(num_iterations):\n",
    "        h = sigmoid(np.dot(X, theta))\n",
    "        gradient = np.dot(X.T, (h - y)) / m\n",
    "        theta -= alpha * gradient\n",
    "\n",
    "        cost = cost_function(X, y, theta)\n",
    "        cost_history.append(cost)\n",
    "\n",
    "    return theta, cost_history\n",
    "\n",
    "#Contiene las variables independientes de nuestra base de datos \n",
    "X = np.array([[12,23.11,52], [0.01,28.61,63], [0.08,32.28,46], [7.5,38.03,58],[13.6,27.78,49]\n",
    "              ,[6.2,36.21,45],[4.05,16.2,38],[4.08,14.6,58],[0,19.4,29],[0,30.96,53]\n",
    "              ,[6,32.27,60],[14.1,22.39,40],[0,10.05,17],[0,17.21,15],[9.65,17.2,53]\n",
    "             ,[1.53,28.95,46],[7.5,22.0,49],[10.5,35.36,53],[2.6,34.07,62],[14.0,35.96,59]\n",
    "             ,[1.61,12.32,20],[7.9,26.5,44],[0.3,33.99,50],[0.6,28.66,58],[18.2,24.38,50]\n",
    "             ,[4.0,31.29,42],[6.0,33.91,48],[9.1,27.55,61],[4.09,31.4,56],[0,25.69,63]])  \n",
    "#Contiene las variables objetivo de nuestra base de datos\n",
    "y = np.array([0, 1, 0, 1, 1, 1, 1, 1, 1, 1, 1, 1, 0, 0, 0, 0, 0, 1, 1, 1, 0, 0, 0, 0, 0, 1, 0, 1, 1, 0])  # Variable objetivo\n",
    "\n",
    "# Inicializar los coeficientes y el sesgo\n",
    "theta = np.zeros(X.shape[1])\n",
    "\n",
    "# Hiperparámetros del descenso de gradiente\n",
    "alpha = 0.01\n",
    "num_iterations = 1000\n",
    "\n",
    "# Aplicar el descenso de gradiente para obtener los coeficientes y el sesgo\n",
    "theta, cost_history = gradient_descent(X, y, theta, alpha, num_iterations)\n",
    "\n",
    "# Imprimir los coeficientes y el sesgo resultantes\n",
    "print(\"Coeficientes:\", theta)\n",
    "print(\"Sesgo:\", theta[0])\n"
   ]
  },
  {
   "cell_type": "markdown",
   "id": "d3776d88",
   "metadata": {},
   "source": [
    "Apliquemos ahora nuestro algoritmo ya con los coeficientes calculados."
   ]
  },
  {
   "cell_type": "code",
   "execution_count": 30,
   "id": "50a263b5",
   "metadata": {},
   "outputs": [
    {
     "name": "stdout",
     "output_type": "stream",
     "text": [
      "La persona no tiene o no padecera una enfermedad cardiaca\n"
     ]
    }
   ],
   "source": [
    "coeficientes =[0.1,0.04,-0.04]\n",
    "variables_independientes=[2.6,24.4,19]\n",
    "etiqueta=regresion_logistica(coeficientes, variables_independientes, sesgo)\n",
    "if etiqueta == \"Etiqueta 1\":\n",
    "    print(\"La persona tiene o padecera una enfermedad cardiaca\")\n",
    "else:\n",
    "    print(\"La persona no tiene o no padecera una enfermedad cardiaca\")"
   ]
  }
 ],
 "metadata": {
  "kernelspec": {
   "display_name": "Python 3 (ipykernel)",
   "language": "python",
   "name": "python3"
  },
  "language_info": {
   "codemirror_mode": {
    "name": "ipython",
    "version": 3
   },
   "file_extension": ".py",
   "mimetype": "text/x-python",
   "name": "python",
   "nbconvert_exporter": "python",
   "pygments_lexer": "ipython3",
   "version": "3.9.13"
  }
 },
 "nbformat": 4,
 "nbformat_minor": 5
}
